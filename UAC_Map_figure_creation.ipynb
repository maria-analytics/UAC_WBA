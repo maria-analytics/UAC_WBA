{
 "cells": [
  {
   "cell_type": "code",
   "execution_count": 41,
   "id": "ae323d4f",
   "metadata": {},
   "outputs": [],
   "source": [
    "############################\n",
    "# Map figure creation code #\n",
    "# Zach Ruble    11/03/2022 #\n",
    "############################\n"
   ]
  },
  {
   "cell_type": "code",
   "execution_count": 81,
   "id": "baf52371",
   "metadata": {},
   "outputs": [],
   "source": [
    "# Importing mapping library \n",
    "# For this test run we are going to try to use a library called \"GeoPandas\"\n",
    "\n",
    "# Necessary for plotting and data analysis \n",
    "import pandas as pd\n",
    "import geopandas \n",
    "import folium \n",
    "import matplotlib.pyplot as plt\n",
    "\n",
    "import webbrowser\n",
    "\n",
    "# Needed to export map as a PNG\n",
    "# NOT WORKING"
   ]
  },
  {
   "cell_type": "code",
   "execution_count": 82,
   "id": "32178460",
   "metadata": {},
   "outputs": [],
   "source": [
    "# Importing data from a locally created CSV file\n",
    "\n",
    "df1 = pd.read_csv(\"dataStationLocations.csv\")\n",
    "\n",
    "# Keep only relevant columns\n",
    "df = df1.loc[:, (\"Year\", \"Name\", \"Canyon\", \"Latitude\", \"Longitude\")]"
   ]
  },
  {
   "cell_type": "code",
   "execution_count": 83,
   "id": "cdb52d43",
   "metadata": {},
   "outputs": [
    {
     "name": "stderr",
     "output_type": "stream",
     "text": [
      "C:\\Users\\ruble\\anaconda3\\lib\\site-packages\\geopandas\\array.py:275: ShapelyDeprecationWarning: The array interface is deprecated and will no longer work in Shapely 2.0. Convert the '.coords' to a numpy array instead.\n",
      "  return GeometryArray(vectorized.points_from_xy(x, y, z), crs=crs)\n"
     ]
    }
   ],
   "source": [
    "# Create point geometries\n",
    "geometry = geopandas.points_from_xy(df.Longitude, df.Latitude)\n",
    "geo_df = geopandas.GeoDataFrame(\n",
    "    df[[\"Year\", \"Name\", \"Canyon\", \"Latitude\", \"Longitude\"]], geometry=geometry\n",
    ")"
   ]
  },
  {
   "cell_type": "code",
   "execution_count": 88,
   "id": "d314e340",
   "metadata": {},
   "outputs": [],
   "source": [
    "# Definition of our map type along with centroid location and zoom level\n",
    "map = folium.Map(location=[40.6385843, -111.702122], tiles=\"Stamen Terrain\", zoom_start=12)\n",
    "\n",
    "# Create a geometry list from the GeoDataFrame\n",
    "geo_df_list = [[point.xy[1][0], point.xy[0][0]] for point in geo_df.geometry]\n",
    "\n",
    "# Iterate through list and add a marker for each data collection station\n",
    "i = 0\n",
    "for coordinates in geo_df_list:\n",
    "\n",
    "    # Place the markers with the popup labels and data\n",
    "    map.add_child(\n",
    "        folium.Marker(\n",
    "            location=coordinates,\n",
    "            popup=\n",
    "                \"Year: \" + str(geo_df.Year[i]) + \"<br>\"\n",
    "                + \"Name: \" + str(geo_df.Name[i]) + \"<br>\"\n",
    "                + \"Canyon: \" + str(geo_df.Canyon[i]) + \"<br>\"\n",
    "                + \"Coordinates: \" + str(geo_df_list[i])\n",
    "        )\n",
    "    )\n",
    "    i = i + 1"
   ]
  },
  {
   "cell_type": "code",
   "execution_count": 90,
   "id": "f0f0ff5e",
   "metadata": {},
   "outputs": [
    {
     "data": {
      "text/plain": [
       "True"
      ]
     },
     "execution_count": 90,
     "metadata": {},
     "output_type": "execute_result"
    }
   ],
   "source": [
    "# Display the map in all its glory\n",
    "map.save(\"mapOutput.html\")\n",
    "webbrowser.open(\"mapOutput.html\", new=2)"
   ]
  },
  {
   "cell_type": "code",
   "execution_count": null,
   "id": "8c1f92de",
   "metadata": {},
   "outputs": [],
   "source": []
  },
  {
   "cell_type": "code",
   "execution_count": null,
   "id": "d38c3db0",
   "metadata": {},
   "outputs": [],
   "source": []
  }
 ],
 "metadata": {
  "kernelspec": {
   "display_name": "Python 3 (ipykernel)",
   "language": "python",
   "name": "python3"
  },
  "language_info": {
   "codemirror_mode": {
    "name": "ipython",
    "version": 3
   },
   "file_extension": ".py",
   "mimetype": "text/x-python",
   "name": "python",
   "nbconvert_exporter": "python",
   "pygments_lexer": "ipython3",
   "version": "3.9.13"
  }
 },
 "nbformat": 4,
 "nbformat_minor": 5
}
